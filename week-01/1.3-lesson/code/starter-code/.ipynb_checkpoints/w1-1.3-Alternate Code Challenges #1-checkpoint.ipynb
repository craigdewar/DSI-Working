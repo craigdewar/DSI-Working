{
 "cells": [
  {
   "cell_type": "markdown",
   "metadata": {},
   "source": [
    "# Alternate Code Challenges #1\n",
    "\n",
    "While the rest of the class learns about types, you've already known about types and have at least a basic level of experience working with Python.  We think there are plenty of algorithms and data structures that are important to know about, which are outside the scope of our class but fall under year 1-2 computer science fundamentals.  However, with these alternate exercises, we feel are at least somehow supportive of what you might find in job interviews and Python code challenges.\n",
    "\n",
    "These are completely **optional**, but if you are unable to complete these in the beginning, come back to them once you're ready.\n",
    "\n",
    "## Requirements\n",
    "For these challenges, you will need to have a basic working knowledge of Python and be comfortable with fundamental usage.  To get the most out of these exercises you should avoid using libraries (but feel free to use buil-in types ie: zip()) as much as possible and try to construct solutions by hand as much as possible.  Also, if solutions are available, try not to peek to get the most out of this.  \n",
    "\n",
    "Feel free to search and use resources on the web but try to figure as much of these out with careful thought."
   ]
  },
  {
   "cell_type": "markdown",
   "metadata": {},
   "source": [
    "## Optional Challenege 1 - Counting Types\n",
    "\n",
    "Given a list of mixed input, implement a method that counts types of elements (given a list) and reports the quantity of items found in the input.  Output can also be an object representation (ie: dictionary).\n",
    "\n",
    "**Input:**\n",
    "\n",
    "\n",
    "    [5, \"Foo\", (2, 4, 5, 100), {\"fox\": \"mammal\"}, False, True, 2.987, \"Bar\"]\n",
    "\n",
    "\n",
    "\n",
    "**Output:**\n",
    "\n",
    "    int: 1\n",
    "    float: 1\n",
    "    string: 2\n",
    "    tuple: 1\n",
    "    dict: 1\n",
    "    boolean: 2\n"
   ]
  },
  {
   "cell_type": "code",
   "execution_count": 1,
   "metadata": {
    "collapsed": false
   },
   "outputs": [],
   "source": [
    "# Here's a bit of starter code to get you started:\n",
    "def count_types(input):\n",
    "    integer = 0\n",
    "    floatpt = 0\n",
    "    string = 0\n",
    "    tuples = 0\n",
    "    dictionary = 0\n",
    "    boolean = 0\n",
    "    for x in input:\n",
    "        if type(x) == int:\n",
    "            integer +=1\n",
    "        if type(x) == float:\n",
    "            floatpt +=1\n",
    "        if type(x) == str:\n",
    "            string +=1\n",
    "        if type(x) == tuple:\n",
    "            tuples +=1\n",
    "        if type(x) == dict:\n",
    "            dictionary +=1\n",
    "        if type(x) == bool:\n",
    "            boolean +=1\n",
    "                        \n",
    "    print \"int:\", integer,\"\\n\" \"float:\", floatpt,\"\\n\", \"string:\", string,\"\\n\", \"tuple:\", tuples,\"\\n\", \"dict:\", dictionary, \"\\n\", \"boolean:\", boolean "
   ]
  },
  {
   "cell_type": "code",
   "execution_count": 2,
   "metadata": {
    "collapsed": false
   },
   "outputs": [
    {
     "name": "stdout",
     "output_type": "stream",
     "text": [
      "int: 5 \n",
      "float: 3 \n",
      "string: 4 \n",
      "tuple: 1 \n",
      "dict: 1 \n",
      "boolean: 1\n"
     ]
    }
   ],
   "source": [
    "example_input = [\n",
    "    True, \n",
    "    5, \n",
    "    23.234, \n",
    "    3.55, \n",
    "    \"This is not a test\", \n",
    "    {\"steve\": \"jobs\"}, \n",
    "    (5, 23, 55), \n",
    "    max([1, 0, 1, 1]), \n",
    "    abs(-234), \n",
    "    (5 + 3.01), \n",
    "    \"\",\n",
    "    None,\n",
    "    [5] * 20,\n",
    "    \"343434\",\n",
    "    \"5\" + \"aaaaaa2\",\n",
    "    55 % 3,\n",
    "    5^2\n",
    "]\n",
    "\n",
    "count_types(example_input)"
   ]
  },
  {
   "cell_type": "markdown",
   "metadata": {},
   "source": [
    "## Optional Challenge 2 - Printing Max Type\n",
    "\n",
    "Given an list input of mixed element types (ie: *example_input*), print the most common type and count.  \n",
    "\n",
    "_If there are more than one common types, print both out._\n",
    "\n",
    "**Input:**\n",
    "\n",
    "    [5, \"Foo\", (2, 4, 5, 100), {\"fox\": \"mammal\"}, False, True, 2.987, \"Bar\"]\n",
    "    \n",
    "**Output:**\n",
    "\n",
    "    string: 2\n",
    "    boolean: 2\n",
    "    \n",
    "    # String and boolean have the greatest count: 2"
   ]
  },
  {
   "cell_type": "code",
   "execution_count": 3,
   "metadata": {
    "collapsed": false
   },
   "outputs": [],
   "source": [
    "## Solution here\n",
    "maxes = [5, \"Foo\", (2, 4, 5, 100), {\"fox\": \"mammal\"}, False, True, 2.987, \"Bar\"]\n",
    "\n",
    "def max_types(input):\n",
    "    typecount = {\n",
    "        \"integer\": 0,\n",
    "        \"floatpt\": 0,\n",
    "        \"string\": 0,\n",
    "        \"tuples\": 0,\n",
    "        \"dictionary\": 0,\n",
    "        \"boolean\": 0\n",
    "   }\n",
    "    \n",
    "    highest = 0\n",
    "    \n",
    "    for x in input:\n",
    "        if type(x) == int:\n",
    "            typecount[\"integer\"] +=1\n",
    "        if type(x) == float:\n",
    "            typecount[\"floatpt\"] +=1\n",
    "        if type(x) == str:\n",
    "            typecount[\"string\"] +=1\n",
    "        if type(x) == tuple:\n",
    "            typecount[\"tuples\"] +=1\n",
    "        if type(x) == dict:\n",
    "            typecount[\"dictionary\"] +=1\n",
    "        if type(x) == bool:\n",
    "            typecount[\"boolean\"] +=1 \n",
    "  \n",
    "    for value in typecount:\n",
    "        if typecount[value] > highest:\n",
    "            highest = typecount[value]\n",
    "            \n",
    "    for value in typecount:\n",
    "        if typecount[value] >= highest:\n",
    "            print value, \":\", typecount[value]"
   ]
  },
  {
   "cell_type": "code",
   "execution_count": 4,
   "metadata": {
    "collapsed": false
   },
   "outputs": [
    {
     "name": "stdout",
     "output_type": "stream",
     "text": [
      "string : 2\n",
      "boolean : 2\n"
     ]
    }
   ],
   "source": [
    "max_types(maxes)"
   ]
  },
  {
   "cell_type": "markdown",
   "metadata": {},
   "source": [
    "## Optional Challenge 3 - Intersection of Counts\n",
    "\n",
    "Given a 2 lists inputs with mixed element types (ie: _example_input_), print types that have the same counts from each list. \n",
    "\n",
    "_If there are more than one common types, print both out._\n",
    "\n",
    "**Input:**\n",
    "\n",
    "    Input 1:  [5, \"Foo\", (2, 4, 5, 100), {\"monkey\": \"mammal\"}, False, True, 2.987, \"Bar\", {\"snake\": \"reptile\"}]\n",
    "    Input 2:  [\"335\", False, True, \"Maybe\", 105.3, {\"colour\": \"blue\"}, {234: \"value\"}]\n",
    "    \n",
    "**Output:**\n",
    "\n",
    "    strings: 2\n",
    "    booleans: 2\n",
    "    dictionaries: 2\n",
    "    floats: 2\n",
    "    \n",
    "\n",
    "** Explanation **\n",
    "* The first input has 1 int, **1 float**, **2 strings**, 1 tuple, **2 dictionaries**, **2 booleans**.\n",
    "* The second input as **2 strings**, **2 booleans**, **1 float**, **2 dictionaries**.\n",
    "* The quantities that match are **strings, booleans, dictionaries,** and **floats**.\n",
    "    \n",
    " "
   ]
  },
  {
   "cell_type": "code",
   "execution_count": 5,
   "metadata": {
    "collapsed": true
   },
   "outputs": [],
   "source": [
    "input1 = [5, \"Foo\", (2, 4, 5, 100), {\"monkey\": \"mammal\"}, False, True, 2.987, \"Bar\", {\"snake\": \"reptile\"}]\n",
    "input2 = [\"335\", False, True, \"Maybe\", 105.3, {\"colour\": \"blue\"}, {234: \"value\"}]"
   ]
  },
  {
   "cell_type": "code",
   "execution_count": 27,
   "metadata": {
    "collapsed": false
   },
   "outputs": [
    {
     "name": "stdout",
     "output_type": "stream",
     "text": [
      "<type 'float'> 1\n",
      "<type 'bool'> 2\n",
      "<type 'str'> 2\n",
      "<type 'dict'> 2\n"
     ]
    }
   ],
   "source": [
    "## Reuse example_input\n",
    "def count_matching_quantities(input1, input2):  \n",
    "    \n",
    "    matches ={}\n",
    "    for item in input1:\n",
    "        if str(type(item)) not in matches:\n",
    "            matches[str(type(item))] = [1,0]\n",
    "        else:\n",
    "            matches[str(type(item))][0] += 1\n",
    "    \n",
    "    for item in input2:\n",
    "        if str(type(item)) not in matches:\n",
    "            matches[str(type(item))] = [0,1]\n",
    "        else:\n",
    "            matches[str(type(item))][1] += 1\n",
    "    for key, value in matches.items():\n",
    "        if value[0] == value[1]:\n",
    "            print key, value[0]\n",
    "    \n",
    "count_matching_quantities(input1,input2)"
   ]
  },
  {
   "cell_type": "code",
   "execution_count": 30,
   "metadata": {
    "collapsed": false
   },
   "outputs": [
    {
     "name": "stdout",
     "output_type": "stream",
     "text": [
      "<type 'bool'> 1\n",
      "<type 'dict'> 1\n"
     ]
    }
   ],
   "source": [
    "# Same as previously\n",
    "example_input1 = [\n",
    "    True, \n",
    "    5, \n",
    "    23.234, \n",
    "    3.55, \n",
    "    \"This is not a test\", \n",
    "    {\"steve\": \"jobs\"}, \n",
    "    (5, 23, 55), \n",
    "    max([1, 0, 1, 1]), \n",
    "    abs(-234), \n",
    "    (5 + 3.01), \n",
    "    \"\",\n",
    "    None,\n",
    "    [5] * 20,\n",
    "    \"343434\",\n",
    "    \"5\" + \"aaaaaa2\",\n",
    "    55 % 3,\n",
    "    5^2\n",
    "]\n",
    "\n",
    "example_input2 = [\n",
    "    \"335\", \n",
    "    False, \n",
    "    \"Maybe\", \n",
    "    105.3, \n",
    "    {\"colour\": \"blue\"}, \n",
    "    4,\n",
    "    12345\n",
    "]\n",
    "\n",
    "count_matching_quantities(example_input1, example_input2)"
   ]
  },
  {
   "cell_type": "code",
   "execution_count": 31,
   "metadata": {
    "collapsed": false
   },
   "outputs": [
    {
     "name": "stdout",
     "output_type": "stream",
     "text": [
      "<type 'float'> 1\n",
      "<type 'bool'> 2\n",
      "<type 'str'> 2\n",
      "<type 'dict'> 2\n"
     ]
    }
   ],
   "source": [
    "i1=[5, \"Foo\", (2, 4, 5, 100), {\"monkey\": \"mammal\"}, False, True, 2.987, \"Bar\", {\"snake\": \"reptile\"}]\n",
    "i2=[\"335\", False, True, \"Maybe\", 105.3, {\"colour\": \"blue\"}, {234: \"value\"}]\n",
    "\n",
    "count_matching_quantities(i1, i2)"
   ]
  },
  {
   "cell_type": "code",
   "execution_count": null,
   "metadata": {
    "collapsed": true
   },
   "outputs": [],
   "source": []
  }
 ],
 "metadata": {
  "kernelspec": {
   "display_name": "Python 2",
   "language": "python",
   "name": "python2"
  },
  "language_info": {
   "codemirror_mode": {
    "name": "ipython",
    "version": 2
   },
   "file_extension": ".py",
   "mimetype": "text/x-python",
   "name": "python",
   "nbconvert_exporter": "python",
   "pygments_lexer": "ipython2",
   "version": "2.7.13"
  }
 },
 "nbformat": 4,
 "nbformat_minor": 0
}
